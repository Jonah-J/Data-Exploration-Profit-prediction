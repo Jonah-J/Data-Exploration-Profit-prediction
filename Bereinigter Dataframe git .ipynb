{
 "cells": [
  {
   "cell_type": "code",
   "execution_count": 1,
   "metadata": {},
   "outputs": [],
   "source": [
    "import pandas as pd"
   ]
  },
  {
   "cell_type": "code",
   "execution_count": 2,
   "metadata": {},
   "outputs": [],
   "source": [
    "df=pd.read_csv('Global_Superstore2.csv', encoding = \"ISO-8859-1\")"
   ]
  },
  {
   "cell_type": "markdown",
   "metadata": {},
   "source": [
    "# Entfernen aller Attribute, die bei vorangegangener Exploration entfernt wurden"
   ]
  },
  {
   "cell_type": "code",
   "execution_count": 3,
   "metadata": {},
   "outputs": [],
   "source": [
    "# del df[\"State\"]"
   ]
  },
  {
   "cell_type": "code",
   "execution_count": 4,
   "metadata": {},
   "outputs": [],
   "source": [
    "\n",
    "# del df[\"City\"]"
   ]
  },
  {
   "cell_type": "code",
   "execution_count": 5,
   "metadata": {},
   "outputs": [],
   "source": [
    "# del df[\"State\"]\n",
    "# del df[\"City\"]\n",
    "# del df[\"Postal Code\"]"
   ]
  },
  {
   "cell_type": "code",
   "execution_count": 6,
   "metadata": {},
   "outputs": [],
   "source": [
    "# del df[\"State\"]\n",
    "# del df[\"City\"]\n",
    "# del df[\"Postal Code\"]\n",
    "# del df[\"Product ID\"]"
   ]
  },
  {
   "cell_type": "code",
   "execution_count": 7,
   "metadata": {},
   "outputs": [],
   "source": [
    "# del df[\"State\"]\n",
    "# del df[\"City\"]\n",
    "# del df[\"Postal Code\"]\n",
    "# del df[\"Product ID\"]\n",
    "# del df[\"Product Name\"]"
   ]
  },
  {
   "cell_type": "code",
   "execution_count": 8,
   "metadata": {},
   "outputs": [],
   "source": [
    "# del df[\"State\"]\n",
    "# del df[\"City\"]\n",
    "# del df[\"Postal Code\"]\n",
    "# del df[\"Product ID\"]\n",
    "# del df[\"Product Name\"]\n",
    "# del df[\"Order Priority\"]"
   ]
  },
  {
   "cell_type": "code",
   "execution_count": 9,
   "metadata": {},
   "outputs": [],
   "source": [
    "# del df[\"State\"]\n",
    "# del df[\"City\"]\n",
    "# del df[\"Postal Code\"]\n",
    "# del df[\"Product ID\"]\n",
    "# del df[\"Product Name\"]\n",
    "# del df[\"Order Priority\"]\n",
    "# del df[\"Order ID\"]"
   ]
  },
  {
   "cell_type": "code",
   "execution_count": 10,
   "metadata": {},
   "outputs": [],
   "source": [
    "# del df[\"State\"]\n",
    "# del df[\"City\"]\n",
    "# del df[\"Postal Code\"]\n",
    "# del df[\"Product ID\"]\n",
    "# del df[\"Product Name\"]\n",
    "# del df[\"Order Priority\"]\n",
    "# del df[\"Order ID\"]\n",
    "# del df[\"Ship Date\"]"
   ]
  },
  {
   "cell_type": "code",
   "execution_count": 11,
   "metadata": {},
   "outputs": [],
   "source": [
    "# del df[\"State\"]\n",
    "# del df[\"City\"]\n",
    "# del df[\"Postal Code\"]\n",
    "# del df[\"Product ID\"]\n",
    "# del df[\"Product Name\"]\n",
    "# del df[\"Order Priority\"]\n",
    "# del df[\"Order ID\"]\n",
    "# del df[\"Ship Date\"]\n",
    "# del df[\"Order Date\"]\n"
   ]
  },
  {
   "cell_type": "code",
   "execution_count": 12,
   "metadata": {},
   "outputs": [],
   "source": [
    "# del df[\"State\"]\n",
    "# del df[\"City\"]\n",
    "# del df[\"Postal Code\"]\n",
    "# del df[\"Product ID\"]\n",
    "# del df[\"Product Name\"]\n",
    "# del df[\"Order Priority\"]\n",
    "# del df[\"Order ID\"]\n",
    "# del df[\"Ship Date\"]\n",
    "# del df[\"Order Date\"]\n",
    "# del df[\"Ship Mode\"]"
   ]
  },
  {
   "cell_type": "code",
   "execution_count": 13,
   "metadata": {},
   "outputs": [],
   "source": [
    "# del df[\"State\"]\n",
    "# del df[\"City\"]\n",
    "# del df[\"Postal Code\"]\n",
    "# del df[\"Product ID\"]\n",
    "# del df[\"Product Name\"]\n",
    "# del df[\"Order Priority\"]\n",
    "# del df[\"Order ID\"]\n",
    "# del df[\"Ship Date\"]\n",
    "# del df[\"Order Date\"]\n",
    "# del df[\"Ship Mode\"]\n",
    "# del df[\"Customer ID\"]"
   ]
  },
  {
   "cell_type": "code",
   "execution_count": 14,
   "metadata": {},
   "outputs": [],
   "source": [
    "# del df[\"State\"]\n",
    "# del df[\"City\"]\n",
    "# del df[\"Postal Code\"]\n",
    "# del df[\"Product ID\"]\n",
    "# del df[\"Product Name\"]\n",
    "# del df[\"Order Priority\"]\n",
    "# del df[\"Order ID\"]\n",
    "# del df[\"Ship Date\"]\n",
    "# del df[\"Order Date\"]\n",
    "# del df[\"Ship Mode\"]\n",
    "# del df[\"Customer ID\"]\n",
    "# del df[\"Customer Name\"]"
   ]
  },
  {
   "cell_type": "code",
   "execution_count": 15,
   "metadata": {},
   "outputs": [],
   "source": [
    "del df[\"State\"]\n",
    "del df[\"City\"]\n",
    "del df[\"Postal Code\"]\n",
    "del df[\"Product ID\"]\n",
    "del df[\"Product Name\"]\n",
    "del df[\"Order Priority\"]\n",
    "del df[\"Order ID\"]\n",
    "del df[\"Ship Date\"]\n",
    "del df[\"Order Date\"]\n",
    "del df[\"Ship Mode\"]\n",
    "del df[\"Customer ID\"]\n",
    "del df[\"Customer Name\"]\n",
    "del df[\"Segment\"]"
   ]
  },
  {
   "cell_type": "markdown",
   "metadata": {},
   "source": [
    "# Bereinigtes DataFrame:"
   ]
  },
  {
   "cell_type": "code",
   "execution_count": 16,
   "metadata": {},
   "outputs": [
    {
     "data": {
      "text/html": [
       "<div>\n",
       "<style scoped>\n",
       "    .dataframe tbody tr th:only-of-type {\n",
       "        vertical-align: middle;\n",
       "    }\n",
       "\n",
       "    .dataframe tbody tr th {\n",
       "        vertical-align: top;\n",
       "    }\n",
       "\n",
       "    .dataframe thead th {\n",
       "        text-align: right;\n",
       "    }\n",
       "</style>\n",
       "<table border=\"1\" class=\"dataframe\">\n",
       "  <thead>\n",
       "    <tr style=\"text-align: right;\">\n",
       "      <th></th>\n",
       "      <th>Row ID</th>\n",
       "      <th>Country</th>\n",
       "      <th>Market</th>\n",
       "      <th>Region</th>\n",
       "      <th>Category</th>\n",
       "      <th>Sub-Category</th>\n",
       "      <th>Sales</th>\n",
       "      <th>Quantity</th>\n",
       "      <th>Discount</th>\n",
       "      <th>Profit</th>\n",
       "      <th>Shipping Cost</th>\n",
       "    </tr>\n",
       "  </thead>\n",
       "  <tbody>\n",
       "    <tr>\n",
       "      <th>0</th>\n",
       "      <td>32298</td>\n",
       "      <td>United States</td>\n",
       "      <td>US</td>\n",
       "      <td>East</td>\n",
       "      <td>Technology</td>\n",
       "      <td>Accessories</td>\n",
       "      <td>2309.650</td>\n",
       "      <td>7</td>\n",
       "      <td>0.0</td>\n",
       "      <td>762.1845</td>\n",
       "      <td>933.57</td>\n",
       "    </tr>\n",
       "    <tr>\n",
       "      <th>1</th>\n",
       "      <td>26341</td>\n",
       "      <td>Australia</td>\n",
       "      <td>APAC</td>\n",
       "      <td>Oceania</td>\n",
       "      <td>Furniture</td>\n",
       "      <td>Chairs</td>\n",
       "      <td>3709.395</td>\n",
       "      <td>9</td>\n",
       "      <td>0.1</td>\n",
       "      <td>-288.7650</td>\n",
       "      <td>923.63</td>\n",
       "    </tr>\n",
       "    <tr>\n",
       "      <th>2</th>\n",
       "      <td>25330</td>\n",
       "      <td>Australia</td>\n",
       "      <td>APAC</td>\n",
       "      <td>Oceania</td>\n",
       "      <td>Technology</td>\n",
       "      <td>Phones</td>\n",
       "      <td>5175.171</td>\n",
       "      <td>9</td>\n",
       "      <td>0.1</td>\n",
       "      <td>919.9710</td>\n",
       "      <td>915.49</td>\n",
       "    </tr>\n",
       "    <tr>\n",
       "      <th>3</th>\n",
       "      <td>13524</td>\n",
       "      <td>Germany</td>\n",
       "      <td>EU</td>\n",
       "      <td>Central</td>\n",
       "      <td>Technology</td>\n",
       "      <td>Phones</td>\n",
       "      <td>2892.510</td>\n",
       "      <td>5</td>\n",
       "      <td>0.1</td>\n",
       "      <td>-96.5400</td>\n",
       "      <td>910.16</td>\n",
       "    </tr>\n",
       "    <tr>\n",
       "      <th>4</th>\n",
       "      <td>47221</td>\n",
       "      <td>Senegal</td>\n",
       "      <td>Africa</td>\n",
       "      <td>Africa</td>\n",
       "      <td>Technology</td>\n",
       "      <td>Copiers</td>\n",
       "      <td>2832.960</td>\n",
       "      <td>8</td>\n",
       "      <td>0.0</td>\n",
       "      <td>311.5200</td>\n",
       "      <td>903.04</td>\n",
       "    </tr>\n",
       "    <tr>\n",
       "      <th>...</th>\n",
       "      <td>...</td>\n",
       "      <td>...</td>\n",
       "      <td>...</td>\n",
       "      <td>...</td>\n",
       "      <td>...</td>\n",
       "      <td>...</td>\n",
       "      <td>...</td>\n",
       "      <td>...</td>\n",
       "      <td>...</td>\n",
       "      <td>...</td>\n",
       "      <td>...</td>\n",
       "    </tr>\n",
       "    <tr>\n",
       "      <th>51285</th>\n",
       "      <td>29002</td>\n",
       "      <td>Japan</td>\n",
       "      <td>APAC</td>\n",
       "      <td>North Asia</td>\n",
       "      <td>Office Supplies</td>\n",
       "      <td>Fasteners</td>\n",
       "      <td>65.100</td>\n",
       "      <td>5</td>\n",
       "      <td>0.0</td>\n",
       "      <td>4.5000</td>\n",
       "      <td>0.01</td>\n",
       "    </tr>\n",
       "    <tr>\n",
       "      <th>51286</th>\n",
       "      <td>35398</td>\n",
       "      <td>United States</td>\n",
       "      <td>US</td>\n",
       "      <td>Central</td>\n",
       "      <td>Office Supplies</td>\n",
       "      <td>Appliances</td>\n",
       "      <td>0.444</td>\n",
       "      <td>1</td>\n",
       "      <td>0.8</td>\n",
       "      <td>-1.1100</td>\n",
       "      <td>0.01</td>\n",
       "    </tr>\n",
       "    <tr>\n",
       "      <th>51287</th>\n",
       "      <td>40470</td>\n",
       "      <td>United States</td>\n",
       "      <td>US</td>\n",
       "      <td>West</td>\n",
       "      <td>Office Supplies</td>\n",
       "      <td>Envelopes</td>\n",
       "      <td>22.920</td>\n",
       "      <td>3</td>\n",
       "      <td>0.0</td>\n",
       "      <td>11.2308</td>\n",
       "      <td>0.01</td>\n",
       "    </tr>\n",
       "    <tr>\n",
       "      <th>51288</th>\n",
       "      <td>9596</td>\n",
       "      <td>Brazil</td>\n",
       "      <td>LATAM</td>\n",
       "      <td>South</td>\n",
       "      <td>Office Supplies</td>\n",
       "      <td>Binders</td>\n",
       "      <td>13.440</td>\n",
       "      <td>2</td>\n",
       "      <td>0.0</td>\n",
       "      <td>2.4000</td>\n",
       "      <td>0.00</td>\n",
       "    </tr>\n",
       "    <tr>\n",
       "      <th>51289</th>\n",
       "      <td>6147</td>\n",
       "      <td>Nicaragua</td>\n",
       "      <td>LATAM</td>\n",
       "      <td>Central</td>\n",
       "      <td>Office Supplies</td>\n",
       "      <td>Paper</td>\n",
       "      <td>61.380</td>\n",
       "      <td>3</td>\n",
       "      <td>0.0</td>\n",
       "      <td>1.8000</td>\n",
       "      <td>0.00</td>\n",
       "    </tr>\n",
       "  </tbody>\n",
       "</table>\n",
       "<p>51290 rows × 11 columns</p>\n",
       "</div>"
      ],
      "text/plain": [
       "       Row ID        Country  Market      Region         Category  \\\n",
       "0       32298  United States      US        East       Technology   \n",
       "1       26341      Australia    APAC     Oceania        Furniture   \n",
       "2       25330      Australia    APAC     Oceania       Technology   \n",
       "3       13524        Germany      EU     Central       Technology   \n",
       "4       47221        Senegal  Africa      Africa       Technology   \n",
       "...       ...            ...     ...         ...              ...   \n",
       "51285   29002          Japan    APAC  North Asia  Office Supplies   \n",
       "51286   35398  United States      US     Central  Office Supplies   \n",
       "51287   40470  United States      US        West  Office Supplies   \n",
       "51288    9596         Brazil   LATAM       South  Office Supplies   \n",
       "51289    6147      Nicaragua   LATAM     Central  Office Supplies   \n",
       "\n",
       "      Sub-Category     Sales  Quantity  Discount    Profit  Shipping Cost  \n",
       "0      Accessories  2309.650         7       0.0  762.1845         933.57  \n",
       "1           Chairs  3709.395         9       0.1 -288.7650         923.63  \n",
       "2           Phones  5175.171         9       0.1  919.9710         915.49  \n",
       "3           Phones  2892.510         5       0.1  -96.5400         910.16  \n",
       "4          Copiers  2832.960         8       0.0  311.5200         903.04  \n",
       "...            ...       ...       ...       ...       ...            ...  \n",
       "51285    Fasteners    65.100         5       0.0    4.5000           0.01  \n",
       "51286   Appliances     0.444         1       0.8   -1.1100           0.01  \n",
       "51287    Envelopes    22.920         3       0.0   11.2308           0.01  \n",
       "51288      Binders    13.440         2       0.0    2.4000           0.00  \n",
       "51289        Paper    61.380         3       0.0    1.8000           0.00  \n",
       "\n",
       "[51290 rows x 11 columns]"
      ]
     },
     "execution_count": 16,
     "metadata": {},
     "output_type": "execute_result"
    }
   ],
   "source": [
    "df"
   ]
  },
  {
   "cell_type": "markdown",
   "metadata": {},
   "source": [
    "# Mit diesem DataFrame kann jetzt der Algorithmus/das Modell aufgesetzt werden"
   ]
  },
  {
   "cell_type": "code",
   "execution_count": null,
   "metadata": {},
   "outputs": [],
   "source": []
  }
 ],
 "metadata": {
  "kernelspec": {
   "display_name": "Python 3",
   "language": "python",
   "name": "python3"
  },
  "language_info": {
   "codemirror_mode": {
    "name": "ipython",
    "version": 3
   },
   "file_extension": ".py",
   "mimetype": "text/x-python",
   "name": "python",
   "nbconvert_exporter": "python",
   "pygments_lexer": "ipython3",
   "version": "3.8.3"
  }
 },
 "nbformat": 4,
 "nbformat_minor": 2
}
