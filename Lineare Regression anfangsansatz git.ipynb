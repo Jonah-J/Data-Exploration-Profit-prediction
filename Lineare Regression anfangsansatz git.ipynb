{
 "cells": [
  {
   "cell_type": "code",
   "execution_count": 1,
   "metadata": {},
   "outputs": [],
   "source": [
    "import pandas as pd\n",
    "import numpy as np"
   ]
  },
  {
   "cell_type": "code",
   "execution_count": 2,
   "metadata": {},
   "outputs": [],
   "source": [
    "data= pd.read_csv('Global_Superstore2.csv', encoding = \"ISO-8859-1\" )\n",
    "   \n",
    "df = pd.DataFrame(data)"
   ]
  },
  {
   "cell_type": "code",
   "execution_count": 3,
   "metadata": {},
   "outputs": [],
   "source": [
    "del df[\"State\"]\n",
    "del df[\"City\"]\n",
    "del df[\"Postal Code\"]\n",
    "del df[\"Product ID\"]\n",
    "del df[\"Product Name\"]\n",
    "del df[\"Order Priority\"]\n",
    "del df[\"Order ID\"]\n",
    "del df[\"Ship Date\"]\n",
    "del df[\"Order Date\"]\n",
    "del df[\"Ship Mode\"]\n",
    "del df[\"Customer ID\"]\n",
    "del df[\"Customer Name\"]\n",
    "del df[\"Segment\"]  \n"
   ]
  },
  {
   "cell_type": "code",
   "execution_count": 4,
   "metadata": {},
   "outputs": [
    {
     "data": {
      "text/html": [
       "<div>\n",
       "<style scoped>\n",
       "    .dataframe tbody tr th:only-of-type {\n",
       "        vertical-align: middle;\n",
       "    }\n",
       "\n",
       "    .dataframe tbody tr th {\n",
       "        vertical-align: top;\n",
       "    }\n",
       "\n",
       "    .dataframe thead th {\n",
       "        text-align: right;\n",
       "    }\n",
       "</style>\n",
       "<table border=\"1\" class=\"dataframe\">\n",
       "  <thead>\n",
       "    <tr style=\"text-align: right;\">\n",
       "      <th></th>\n",
       "      <th>Row ID</th>\n",
       "      <th>Country</th>\n",
       "      <th>Market</th>\n",
       "      <th>Region</th>\n",
       "      <th>Category</th>\n",
       "      <th>Sub-Category</th>\n",
       "      <th>Sales</th>\n",
       "      <th>Quantity</th>\n",
       "      <th>Discount</th>\n",
       "      <th>Profit</th>\n",
       "      <th>Shipping Cost</th>\n",
       "    </tr>\n",
       "  </thead>\n",
       "  <tbody>\n",
       "    <tr>\n",
       "      <th>0</th>\n",
       "      <td>32298</td>\n",
       "      <td>United States</td>\n",
       "      <td>US</td>\n",
       "      <td>East</td>\n",
       "      <td>Technology</td>\n",
       "      <td>Accessories</td>\n",
       "      <td>2309.650</td>\n",
       "      <td>7</td>\n",
       "      <td>0.0</td>\n",
       "      <td>762.1845</td>\n",
       "      <td>933.57</td>\n",
       "    </tr>\n",
       "    <tr>\n",
       "      <th>1</th>\n",
       "      <td>26341</td>\n",
       "      <td>Australia</td>\n",
       "      <td>APAC</td>\n",
       "      <td>Oceania</td>\n",
       "      <td>Furniture</td>\n",
       "      <td>Chairs</td>\n",
       "      <td>3709.395</td>\n",
       "      <td>9</td>\n",
       "      <td>0.1</td>\n",
       "      <td>-288.7650</td>\n",
       "      <td>923.63</td>\n",
       "    </tr>\n",
       "    <tr>\n",
       "      <th>2</th>\n",
       "      <td>25330</td>\n",
       "      <td>Australia</td>\n",
       "      <td>APAC</td>\n",
       "      <td>Oceania</td>\n",
       "      <td>Technology</td>\n",
       "      <td>Phones</td>\n",
       "      <td>5175.171</td>\n",
       "      <td>9</td>\n",
       "      <td>0.1</td>\n",
       "      <td>919.9710</td>\n",
       "      <td>915.49</td>\n",
       "    </tr>\n",
       "    <tr>\n",
       "      <th>3</th>\n",
       "      <td>13524</td>\n",
       "      <td>Germany</td>\n",
       "      <td>EU</td>\n",
       "      <td>Central</td>\n",
       "      <td>Technology</td>\n",
       "      <td>Phones</td>\n",
       "      <td>2892.510</td>\n",
       "      <td>5</td>\n",
       "      <td>0.1</td>\n",
       "      <td>-96.5400</td>\n",
       "      <td>910.16</td>\n",
       "    </tr>\n",
       "    <tr>\n",
       "      <th>4</th>\n",
       "      <td>47221</td>\n",
       "      <td>Senegal</td>\n",
       "      <td>Africa</td>\n",
       "      <td>Africa</td>\n",
       "      <td>Technology</td>\n",
       "      <td>Copiers</td>\n",
       "      <td>2832.960</td>\n",
       "      <td>8</td>\n",
       "      <td>0.0</td>\n",
       "      <td>311.5200</td>\n",
       "      <td>903.04</td>\n",
       "    </tr>\n",
       "  </tbody>\n",
       "</table>\n",
       "</div>"
      ],
      "text/plain": [
       "   Row ID        Country  Market   Region    Category Sub-Category     Sales  \\\n",
       "0   32298  United States      US     East  Technology  Accessories  2309.650   \n",
       "1   26341      Australia    APAC  Oceania   Furniture       Chairs  3709.395   \n",
       "2   25330      Australia    APAC  Oceania  Technology       Phones  5175.171   \n",
       "3   13524        Germany      EU  Central  Technology       Phones  2892.510   \n",
       "4   47221        Senegal  Africa   Africa  Technology      Copiers  2832.960   \n",
       "\n",
       "   Quantity  Discount    Profit  Shipping Cost  \n",
       "0         7       0.0  762.1845         933.57  \n",
       "1         9       0.1 -288.7650         923.63  \n",
       "2         9       0.1  919.9710         915.49  \n",
       "3         5       0.1  -96.5400         910.16  \n",
       "4         8       0.0  311.5200         903.04  "
      ]
     },
     "execution_count": 4,
     "metadata": {},
     "output_type": "execute_result"
    }
   ],
   "source": [
    "df.head()"
   ]
  },
  {
   "cell_type": "code",
   "execution_count": 5,
   "metadata": {},
   "outputs": [],
   "source": [
    "df['Category'] =df['Category'].astype('category').cat.codes\n",
    "df['Sub-Category'] =df['Sub-Category'].astype('category').cat.codes\n",
    "df['Country'] =df['Country'].astype('category').cat.codes\n",
    "df['Market'] =df['Market'].astype('category').cat.codes\n",
    "df['Region'] =df['Region'].astype('category').cat.codes"
   ]
  },
  {
   "cell_type": "code",
   "execution_count": 6,
   "metadata": {},
   "outputs": [],
   "source": [
    "# df['Category'].astype('category').cat.codes   # Technology  = 2\n",
    "\n",
    "# df['Sub-Category'].astype('category').cat.codes  # phones = 13\n",
    "\n",
    "# df['Country'].astype('category').cat.codes   # germany =47\n",
    "\n",
    "# df['Market'].astype('category').cat.codes  # EU 4\n",
    "\n",
    "# df['Region'].astype('category').cat.codes  # Central = 3\n",
    "\n"
   ]
  },
  {
   "cell_type": "code",
   "execution_count": 7,
   "metadata": {},
   "outputs": [
    {
     "data": {
      "image/png": "[encoded data removed]",
      "text/plain": [
       "<Figure size 288x288 with 2 Axes>"
      ]
     },
     "metadata": {
      "needs_background": "light"
     },
     "output_type": "display_data"
    }
   ],
   "source": [
    "import matplotlib.pyplot as plt\n",
    "\n",
    "plt.matshow(df.corr())\n",
    "plt.xticks(np.arange(11), df.columns, rotation=90)\n",
    "plt.yticks(np.arange(11), df.columns, rotation=0)\n",
    "plt.colorbar()\n",
    "plt.show()\n"
   ]
  },
  {
   "cell_type": "code",
   "execution_count": 8,
   "metadata": {},
   "outputs": [],
   "source": [
    "from sklearn.model_selection import train_test_split\n",
    "# 'Row ID',\n",
    "X = np.asarray(df[['Row ID',       'Country',        'Market',        'Region',\n",
    "      'Category',  'Sub-Category',         'Sales',      'Quantity',\n",
    "      'Discount',        'Shipping Cost']]) \n",
    "Y = np.asarray(df['Profit'])\n",
    "\n",
    "X_train, X_test, y_train, y_test = train_test_split(X, Y, test_size=0.33, shuffle= True)\n"
   ]
  },
  {
   "cell_type": "markdown",
   "metadata": {},
   "source": [
    "# Standard linear regression (not so good as rig regression)"
   ]
  },
  {
   "cell_type": "code",
   "execution_count": 9,
   "metadata": {},
   "outputs": [
    {
     "name": "stdout",
     "output_type": "stream",
     "text": [
      "Score:  0.21665793164152725\n",
      "Weights:  [ 7.37471959e-05  8.53103185e-02 -4.94202016e-01 -1.67907697e-01\n",
      "  1.01134528e+01 -1.64460083e+00  2.29688211e-01 -4.10051665e+00\n",
      " -2.24697610e+02 -4.32868369e-01]\n"
     ]
    },
    {
     "data": {
      "image/png": "[encoded data removed]",
      "text/plain": [
       "<Figure size 432x288 with 1 Axes>"
      ]
     },
     "metadata": {
      "needs_background": "light"
     },
     "output_type": "display_data"
    }
   ],
   "source": [
    "from sklearn.linear_model import LinearRegression\n",
    "\n",
    "lineReg = LinearRegression()\n",
    "lineReg.fit(X_train, y_train)\n",
    "print('Score: ', lineReg.score(X_test, y_test))\n",
    "print('Weights: ', lineReg.coef_)\n",
    "\n",
    "plt.plot(lineReg.predict(X_test))\n",
    "plt.plot(y_test,)\n",
    "plt.show()"
   ]
  },
  {
   "cell_type": "markdown",
   "metadata": {},
   "source": [
    "# Rig-Regresission\n"
   ]
  },
  {
   "cell_type": "code",
   "execution_count": 10,
   "metadata": {},
   "outputs": [
    {
     "name": "stdout",
     "output_type": "stream",
     "text": [
      "Score:  0.21665338830947123\n",
      "Weights:  [ 7.38116120e-05  8.52014152e-02 -4.92957857e-01 -1.67861255e-01\n",
      "  1.01143719e+01 -1.64460786e+00  2.29690861e-01 -4.10061577e+00\n",
      " -2.24612996e+02 -4.32859914e-01]\n"
     ]
    },
    {
     "data": {
      "image/png": "[encoded data removed]",
      "text/plain": [
       "<Figure size 432x288 with 1 Axes>"
      ]
     },
     "metadata": {
      "needs_background": "light"
     },
     "output_type": "display_data"
    }
   ],
   "source": [
    "from sklearn import linear_model\n",
    "reg = linear_model.Ridge (alpha = .55)\n",
    "reg.fit(X_train, y_train)\n",
    "print('Score: ', reg.score(X_test, y_test))\n",
    "print('Weights: ', reg.coef_)\n",
    "\n",
    "plt.plot(reg.predict(X_test))\n",
    "plt.plot(y_test)\n",
    "plt.show()"
   ]
  },
  {
   "cell_type": "code",
   "execution_count": 11,
   "metadata": {},
   "outputs": [
    {
     "name": "stdout",
     "output_type": "stream",
     "text": [
      "Linear Regression\n",
      "0.3055025737019971\n",
      "[ 9.81258901e-05  7.91568569e-02 -1.90831489e-01 -9.44353536e-02\n",
      "  1.00589571e+01 -1.71184858e+00  1.84704357e-01 -3.55763888e+00\n",
      " -2.29647334e+02 -1.56020942e-01]\n",
      "\n",
      "Ridge Regression\n",
      "0.30928341414493526\n",
      "[ 9.72537265e-05  7.89160697e-02 -2.10213185e-01 -9.04839148e-02\n",
      "  1.00389370e+01 -1.71023163e+00  1.82534027e-01 -3.50674472e+00\n",
      " -2.29691617e+02 -1.43013878e-01]\n"
     ]
    }
   ],
   "source": [
    "scores = []\n",
    "coefs = []\n",
    "for i in range(2000):\n",
    "    X_train, X_test, y_train, y_test = train_test_split(X, Y, test_size=0.33, shuffle= True)\n",
    "    lineReg = LinearRegression()\n",
    "    lineReg.fit(X_train, y_train)\n",
    "    scores.append(lineReg.score(X_test, y_test))\n",
    "    coefs.append(lineReg.coef_)\n",
    "print('Linear Regression')\n",
    "print(np.mean(scores))\n",
    "print(np.mean(coefs, axis=0))\n",
    "\n",
    "scores = []\n",
    "coefs = []\n",
    "for i in range(2000):\n",
    "    X_train, X_test, y_train, y_test = train_test_split(X, Y, test_size=0.33, shuffle= True)\n",
    "    lineReg = linear_model.Ridge (alpha = .55)\n",
    "    lineReg.fit(X_train, y_train)\n",
    "    scores.append(lineReg.score(X_test, y_test))\n",
    "    coefs.append(lineReg.coef_)\n",
    "print('\\nRidge Regression')\n",
    "print(np.mean(scores))\n",
    "print(np.mean(coefs, axis=0))"
   ]
  },
  {
   "cell_type": "markdown",
   "metadata": {},
   "source": [
    "Wir können sehen, dass die Ridge-Regression bei 2000 Versuchen das überlegene Modell ist."
   ]
  },
  {
   "cell_type": "markdown",
   "metadata": {},
   "source": [
    "# Jetzt können Sie dieses Modell verwenden, um Kosten zu schätzen, indem Sie dem Modell einen Vektor mit den Features in der gleichen Reihenfolge wie das Dataset wie folgt übergeben "
   ]
  },
  {
   "cell_type": "markdown",
   "metadata": {},
   "source": [
    "gibt ein für predict |    |  Market  |  Region  |  Category |  Sub-Category  |  Sales  |  Quantity  |  Discount  |  Shipping Cost"
   ]
  },
  {
   "cell_type": "code",
   "execution_count": 12,
   "metadata": {},
   "outputs": [
    {
     "data": {
      "text/plain": [
       "array([749.01474797])"
      ]
     },
     "execution_count": 12,
     "metadata": {},
     "output_type": "execute_result"
    }
   ],
   "source": [
    "'Market', 'Region','Category','Sub-Category','Sales', 'Quantity', 'Discount', 'Shipping Cost'\n",
    "\n",
    "reg.predict([[  32298.0, 6, 6.0, 6.0, 2.0, 0.0, 5000.65, 10, 0.0, 933.57]  ])"
   ]
  },
  {
   "cell_type": "code",
   "execution_count": 13,
   "metadata": {},
   "outputs": [],
   "source": [
    "# df['Category'].astype('category').cat.codes   # Technology  = 2\n",
    "\n",
    "# df['Sub-Category'].astype('category').cat.codes  # phones = 13\n",
    "\n",
    "# df['Country'].astype('category').cat.codes   # germany =47\n",
    "\n",
    "# df['Market'].astype('category').cat.codes  # EU 4\n",
    "\n",
    "# df['Region'].astype('category').cat.codes  # Central = 3\n",
    "\n"
   ]
  },
  {
   "cell_type": "code",
   "execution_count": 14,
   "metadata": {},
   "outputs": [
    {
     "data": {
      "text/html": [
       "<div>\n",
       "<style scoped>\n",
       "    .dataframe tbody tr th:only-of-type {\n",
       "        vertical-align: middle;\n",
       "    }\n",
       "\n",
       "    .dataframe tbody tr th {\n",
       "        vertical-align: top;\n",
       "    }\n",
       "\n",
       "    .dataframe thead th {\n",
       "        text-align: right;\n",
       "    }\n",
       "</style>\n",
       "<table border=\"1\" class=\"dataframe\">\n",
       "  <thead>\n",
       "    <tr style=\"text-align: right;\">\n",
       "      <th></th>\n",
       "      <th>Row ID</th>\n",
       "      <th>Country</th>\n",
       "      <th>Market</th>\n",
       "      <th>Region</th>\n",
       "      <th>Category</th>\n",
       "      <th>Sub-Category</th>\n",
       "      <th>Sales</th>\n",
       "      <th>Quantity</th>\n",
       "      <th>Discount</th>\n",
       "      <th>Profit</th>\n",
       "      <th>Shipping Cost</th>\n",
       "    </tr>\n",
       "  </thead>\n",
       "  <tbody>\n",
       "    <tr>\n",
       "      <th>0</th>\n",
       "      <td>32298</td>\n",
       "      <td>139</td>\n",
       "      <td>6</td>\n",
       "      <td>6</td>\n",
       "      <td>2</td>\n",
       "      <td>0</td>\n",
       "      <td>2309.650</td>\n",
       "      <td>7</td>\n",
       "      <td>0.0</td>\n",
       "      <td>762.1845</td>\n",
       "      <td>933.57</td>\n",
       "    </tr>\n",
       "    <tr>\n",
       "      <th>1</th>\n",
       "      <td>26341</td>\n",
       "      <td>6</td>\n",
       "      <td>0</td>\n",
       "      <td>9</td>\n",
       "      <td>0</td>\n",
       "      <td>5</td>\n",
       "      <td>3709.395</td>\n",
       "      <td>9</td>\n",
       "      <td>0.1</td>\n",
       "      <td>-288.7650</td>\n",
       "      <td>923.63</td>\n",
       "    </tr>\n",
       "    <tr>\n",
       "      <th>2</th>\n",
       "      <td>25330</td>\n",
       "      <td>6</td>\n",
       "      <td>0</td>\n",
       "      <td>9</td>\n",
       "      <td>2</td>\n",
       "      <td>13</td>\n",
       "      <td>5175.171</td>\n",
       "      <td>9</td>\n",
       "      <td>0.1</td>\n",
       "      <td>919.9710</td>\n",
       "      <td>915.49</td>\n",
       "    </tr>\n",
       "    <tr>\n",
       "      <th>3</th>\n",
       "      <td>13524</td>\n",
       "      <td>47</td>\n",
       "      <td>4</td>\n",
       "      <td>3</td>\n",
       "      <td>2</td>\n",
       "      <td>13</td>\n",
       "      <td>2892.510</td>\n",
       "      <td>5</td>\n",
       "      <td>0.1</td>\n",
       "      <td>-96.5400</td>\n",
       "      <td>910.16</td>\n",
       "    </tr>\n",
       "    <tr>\n",
       "      <th>4</th>\n",
       "      <td>47221</td>\n",
       "      <td>110</td>\n",
       "      <td>1</td>\n",
       "      <td>0</td>\n",
       "      <td>2</td>\n",
       "      <td>6</td>\n",
       "      <td>2832.960</td>\n",
       "      <td>8</td>\n",
       "      <td>0.0</td>\n",
       "      <td>311.5200</td>\n",
       "      <td>903.04</td>\n",
       "    </tr>\n",
       "    <tr>\n",
       "      <th>...</th>\n",
       "      <td>...</td>\n",
       "      <td>...</td>\n",
       "      <td>...</td>\n",
       "      <td>...</td>\n",
       "      <td>...</td>\n",
       "      <td>...</td>\n",
       "      <td>...</td>\n",
       "      <td>...</td>\n",
       "      <td>...</td>\n",
       "      <td>...</td>\n",
       "      <td>...</td>\n",
       "    </tr>\n",
       "    <tr>\n",
       "      <th>51285</th>\n",
       "      <td>29002</td>\n",
       "      <td>65</td>\n",
       "      <td>0</td>\n",
       "      <td>8</td>\n",
       "      <td>1</td>\n",
       "      <td>8</td>\n",
       "      <td>65.100</td>\n",
       "      <td>5</td>\n",
       "      <td>0.0</td>\n",
       "      <td>4.5000</td>\n",
       "      <td>0.01</td>\n",
       "    </tr>\n",
       "    <tr>\n",
       "      <th>51286</th>\n",
       "      <td>35398</td>\n",
       "      <td>139</td>\n",
       "      <td>6</td>\n",
       "      <td>3</td>\n",
       "      <td>1</td>\n",
       "      <td>1</td>\n",
       "      <td>0.444</td>\n",
       "      <td>1</td>\n",
       "      <td>0.8</td>\n",
       "      <td>-1.1100</td>\n",
       "      <td>0.01</td>\n",
       "    </tr>\n",
       "    <tr>\n",
       "      <th>51287</th>\n",
       "      <td>40470</td>\n",
       "      <td>139</td>\n",
       "      <td>6</td>\n",
       "      <td>12</td>\n",
       "      <td>1</td>\n",
       "      <td>7</td>\n",
       "      <td>22.920</td>\n",
       "      <td>3</td>\n",
       "      <td>0.0</td>\n",
       "      <td>11.2308</td>\n",
       "      <td>0.01</td>\n",
       "    </tr>\n",
       "    <tr>\n",
       "      <th>51288</th>\n",
       "      <td>9596</td>\n",
       "      <td>17</td>\n",
       "      <td>5</td>\n",
       "      <td>10</td>\n",
       "      <td>1</td>\n",
       "      <td>3</td>\n",
       "      <td>13.440</td>\n",
       "      <td>2</td>\n",
       "      <td>0.0</td>\n",
       "      <td>2.4000</td>\n",
       "      <td>0.00</td>\n",
       "    </tr>\n",
       "    <tr>\n",
       "      <th>51289</th>\n",
       "      <td>6147</td>\n",
       "      <td>92</td>\n",
       "      <td>5</td>\n",
       "      <td>3</td>\n",
       "      <td>1</td>\n",
       "      <td>12</td>\n",
       "      <td>61.380</td>\n",
       "      <td>3</td>\n",
       "      <td>0.0</td>\n",
       "      <td>1.8000</td>\n",
       "      <td>0.00</td>\n",
       "    </tr>\n",
       "  </tbody>\n",
       "</table>\n",
       "<p>51290 rows × 11 columns</p>\n",
       "</div>"
      ],
      "text/plain": [
       "       Row ID  Country  Market  Region  Category  Sub-Category     Sales  \\\n",
       "0       32298      139       6       6         2             0  2309.650   \n",
       "1       26341        6       0       9         0             5  3709.395   \n",
       "2       25330        6       0       9         2            13  5175.171   \n",
       "3       13524       47       4       3         2            13  2892.510   \n",
       "4       47221      110       1       0         2             6  2832.960   \n",
       "...       ...      ...     ...     ...       ...           ...       ...   \n",
       "51285   29002       65       0       8         1             8    65.100   \n",
       "51286   35398      139       6       3         1             1     0.444   \n",
       "51287   40470      139       6      12         1             7    22.920   \n",
       "51288    9596       17       5      10         1             3    13.440   \n",
       "51289    6147       92       5       3         1            12    61.380   \n",
       "\n",
       "       Quantity  Discount    Profit  Shipping Cost  \n",
       "0             7       0.0  762.1845         933.57  \n",
       "1             9       0.1 -288.7650         923.63  \n",
       "2             9       0.1  919.9710         915.49  \n",
       "3             5       0.1  -96.5400         910.16  \n",
       "4             8       0.0  311.5200         903.04  \n",
       "...         ...       ...       ...            ...  \n",
       "51285         5       0.0    4.5000           0.01  \n",
       "51286         1       0.8   -1.1100           0.01  \n",
       "51287         3       0.0   11.2308           0.01  \n",
       "51288         2       0.0    2.4000           0.00  \n",
       "51289         3       0.0    1.8000           0.00  \n",
       "\n",
       "[51290 rows x 11 columns]"
      ]
     },
     "execution_count": 14,
     "metadata": {},
     "output_type": "execute_result"
    }
   ],
   "source": [
    "df"
   ]
  },
  {
   "cell_type": "code",
   "execution_count": 15,
   "metadata": {},
   "outputs": [
    {
     "data": {
      "text/plain": [
       "<PandasArray>\n",
       "[32298.0, 139.0, 6.0, 6.0, 2.0, 0.0, 2309.65, 7.0, 0.0, 762.1845, 933.57]\n",
       "Length: 11, dtype: float64"
      ]
     },
     "execution_count": 15,
     "metadata": {},
     "output_type": "execute_result"
    }
   ],
   "source": [
    "df.loc[0].array"
   ]
  },
  {
   "cell_type": "code",
   "execution_count": 16,
   "metadata": {},
   "outputs": [
    {
     "data": {
      "text/plain": [
       "<PandasArray>\n",
       "[       'Row ID',       'Country',        'Market',        'Region',\n",
       "      'Category',  'Sub-Category',         'Sales',      'Quantity',\n",
       "      'Discount',        'Profit', 'Shipping Cost']\n",
       "Length: 11, dtype: object"
      ]
     },
     "execution_count": 16,
     "metadata": {},
     "output_type": "execute_result"
    }
   ],
   "source": [
    "df.columns.array"
   ]
  },
  {
   "cell_type": "code",
   "execution_count": null,
   "metadata": {},
   "outputs": [],
   "source": []
  }
 ],
 "metadata": {
  "kernelspec": {
   "display_name": "Python 3.8.3 32-bit",
   "language": "python",
   "name": "python38332bit0fb33c25443f40149fcc86b4a98669a9"
  },
  "language_info": {
   "codemirror_mode": {
    "name": "ipython",
    "version": 3
   },
   "file_extension": ".py",
   "mimetype": "text/x-python",
   "name": "python",
   "nbconvert_exporter": "python",
   "pygments_lexer": "ipython3",
   "version": "3.8.3"
  }
 },
 "nbformat": 4,
 "nbformat_minor": 4
}
